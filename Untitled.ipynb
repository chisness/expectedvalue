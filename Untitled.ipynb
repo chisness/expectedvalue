{
 "cells": [
  {
   "cell_type": "code",
   "execution_count": 6,
   "id": "a53d0d7e-c277-4d6f-9d71-e7296bdae4bc",
   "metadata": {},
   "outputs": [
    {
     "data": {
      "application/vnd.jupyter.widget-view+json": {
       "model_id": "20d24a0d87414829a614c8b72fb278b6",
       "version_major": 2,
       "version_minor": 0
      },
      "text/plain": [
       "FloatText(value=0.0, description='Value per visit:')"
      ]
     },
     "metadata": {},
     "output_type": "display_data"
    }
   ],
   "source": [
    "import ipywidgets as widgets\n",
    "from IPython.display import display\n",
    "\n",
    "# Create a FloatText widget for input\n",
    "average_input = widgets.FloatText(description='Value per visit:')\n",
    "\n",
    "# Function to handle input changes\n",
    "def handle_input_change(change):\n",
    "    new_value = change['new']\n",
    "    print(\"New average value:\", new_value)\n",
    "\n",
    "# Register the handle_input_change function to observe changes in the input field\n",
    "average_input.observe(handle_input_change, names='value')\n",
    "\n",
    "# Display the input widget\n",
    "display(average_input)"
   ]
  },
  {
   "cell_type": "code",
   "execution_count": 5,
   "id": "2431fdc6-69b8-40e2-84ee-1a6af8c9a01f",
   "metadata": {},
   "outputs": [],
   "source": [
    "a = 50\n"
   ]
  },
  {
   "cell_type": "code",
   "execution_count": null,
   "id": "2fba91f4-e61e-43ed-b572-fa828c0d2aa6",
   "metadata": {},
   "outputs": [],
   "source": []
  }
 ],
 "metadata": {
  "kernelspec": {
   "display_name": "Python 3 (ipykernel)",
   "language": "python",
   "name": "python3"
  },
  "language_info": {
   "codemirror_mode": {
    "name": "ipython",
    "version": 3
   },
   "file_extension": ".py",
   "mimetype": "text/x-python",
   "name": "python",
   "nbconvert_exporter": "python",
   "pygments_lexer": "ipython3",
   "version": "3.9.6"
  }
 },
 "nbformat": 4,
 "nbformat_minor": 5
}
