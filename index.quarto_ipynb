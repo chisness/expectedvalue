{
  "cells": [
    {
      "cell_type": "markdown",
      "metadata": {},
      "source": [
        "---\n",
        "format: html\n",
        "---\n",
        "\n",
        "\n",
        "What is the expected value of this site? \n"
      ],
      "id": "0c6d3356"
    },
    {
      "cell_type": "code",
      "metadata": {},
      "source": [
        "import ipywidgets as widgets\n",
        "widgets.IntSlider()"
      ],
      "id": "607282f4",
      "execution_count": null,
      "outputs": []
    },
    {
      "cell_type": "markdown",
      "metadata": {},
      "source": [
        "To learn more about Quarto books visit <https://quarto.org/docs/books>."
      ],
      "id": "f3d11c96"
    }
  ],
  "metadata": {
    "kernelspec": {
      "display_name": "Python 3",
      "language": "python",
      "name": "python3"
    }
  },
  "nbformat": 4,
  "nbformat_minor": 5
}